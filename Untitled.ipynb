{
 "cells": [
  {
   "cell_type": "code",
   "execution_count": null,
   "metadata": {},
   "outputs": [],
   "source": [
    "from IPython.display import clear_output\n",
    "import numpy as np\n",
    "import random\n",
    "lista=['a','b','c','d','e','f','g','h','i']"
   ]
  },
  {
   "cell_type": "code",
   "execution_count": null,
   "metadata": {},
   "outputs": [],
   "source": [
    "def printboard(lista):\n",
    "    clear_output()\n",
    "    \n",
    "    print(\"  |  |  \")\n",
    "    print(' ' + lista[0] +'| '+lista[1]+ '| '+lista[2])\n",
    "    print(\"----------\")\n",
    "    print(' ' + lista[3] +'| '+lista[4]+ '| '+lista[5])\n",
    "    print(\"----------\")\n",
    "    print(' ' + lista[6] +'| '+lista[7]+ '| '+lista[8])"
   ]
  },
  {
   "cell_type": "code",
   "execution_count": null,
   "metadata": {},
   "outputs": [],
   "source": [
    "def player_input():\n",
    "    marker = \"\"\n",
    "    while not marker =='x' or marker == 'o':\n",
    "        marker = input(\"enter yout mark as x or o\").lower()\n",
    "        if marker == 'x':\n",
    "            return ('x','o')\n",
    "        elif marker == 'o':\n",
    "            return ('o','x')"
   ]
  },
  {
   "cell_type": "code",
   "execution_count": null,
   "metadata": {},
   "outputs": [],
   "source": [
    "def place_marker(lista,marker,position):\n",
    "    lista[position]== marker"
   ]
  },
  {
   "cell_type": "code",
   "execution_count": null,
   "metadata": {},
   "outputs": [],
   "source": [
    "def win_chk(lista,mark):\n",
    "    return ((lista[a] == mark and lista[b] == mark and lista[c] == mark) or\n",
    "           (lista[a]== mark and lista[d] == mark and lista[g] == mark) or\n",
    "            (lista[a]== mark and lista[e] == mark and lista[i] == mark) or\n",
    "        \n",
    "        (lista[g] == mark and lista[h] == mark and lista[i] == mark) or\n",
    "           (lista[c]== mark and lista[f] == mark and lista[i] == mark) or\n",
    "            (lista[b]== mark and lista[e] == mark and lista[h] == mark) or\n",
    "            (lista[d]== mark and lista[e] == mark and lista[f] == mark) or\n",
    "            (lista[g]== mark and lista[e] == mark and lista[c] == mark))"
   ]
  },
  {
   "cell_type": "code",
   "execution_count": null,
   "metadata": {},
   "outputs": [],
   "source": [
    "def randomfirst():\n",
    "    temp=random.randint(0,1)\n",
    "    if temp== 0:\n",
    "        return 'player1'\n",
    "    else:\n",
    "        return \"player 2\""
   ]
  },
  {
   "cell_type": "code",
   "execution_count": null,
   "metadata": {},
   "outputs": [],
   "source": [
    "def space_chk(lista,position):\n",
    "    return lista[int(position)]  == ' '"
   ]
  },
  {
   "cell_type": "code",
   "execution_count": null,
   "metadata": {},
   "outputs": [],
   "source": [
    "def full_board_chk(lista):\n",
    "    for i in range(1,10):\n",
    "        if space_chk(lista,i):\n",
    "            return False\n",
    "    return True"
   ]
  },
  {
   "cell_type": "code",
   "execution_count": null,
   "metadata": {},
   "outputs": [],
   "source": [
    "def player_choice():\n",
    "    positon = ' '\n",
    "    while position not in '1 2 3 4 5 6 7 8 9'.split() or not space_chk(lista,int(position)):\n",
    "        position = input(\"choose ur next position\")\n",
    "    return int(position)"
   ]
  },
  {
   "cell_type": "code",
   "execution_count": null,
   "metadata": {},
   "outputs": [],
   "source": [
    "def replay():\n",
    "    temp = input(\"enter yes if u want to play again\").lower()\n",
    "    if temp == 'yes':\n",
    "        return True"
   ]
  },
  {
   "cell_type": "code",
   "execution_count": null,
   "metadata": {},
   "outputs": [],
   "source": [
    "print(\"welcome to tic tac toe game\")\n",
    "\n",
    "while True:\n",
    "    myboard= [' ']*10\n",
    "    player1,player2 = player_input()\n",
    "    turn = randomfirst()\n",
    "    print(turn + 'will go first')\n",
    "    gameon = True\n",
    "    while gameon:\n",
    "        if turn == 'player1':\n",
    "            printboard(myboard)\n",
    "            player_choice()\n",
    "            place_marker(myboard,player1,position)\n",
    "                \n",
    "            if win_chk(myboard,player1):\n",
    "                printboard(myboard)\n",
    "                print(turn + \"wins\")\n",
    "                gameon== False\n",
    "            else:\n",
    "                if full_boardchk(myboard):\n",
    "                    printboard(myboard)\n",
    "                    print(\"the game is a draw!\")\n",
    "                    break\n",
    "                else:\n",
    "                    turn = 'player2'\n",
    "        else:\n",
    "            turn == 'player2'\n",
    "            printboard(myboard)\n",
    "            player_choice()\n",
    "            place_marker(myboard,player2,position)   \n",
    "            if win_chk(myboard,player2):\n",
    "                printboard(myboard)\n",
    "                print(turn + \"wins\")\n",
    "                gameon== False\n",
    "            else:\n",
    "                if full_boardchk(myboard):\n",
    "                    printboard(myboard)\n",
    "                    print(\"the game is a draw!\")\n",
    "                    break\n",
    "                else:\n",
    "                    turn = 'player2'\n",
    "    if not replay():\n",
    "        break"
   ]
  }
 ],
 "metadata": {
  "kernelspec": {
   "display_name": "Python 3",
   "language": "python",
   "name": "python3"
  },
  "language_info": {
   "codemirror_mode": {
    "name": "ipython",
    "version": 3
   },
   "file_extension": ".py",
   "mimetype": "text/x-python",
   "name": "python",
   "nbconvert_exporter": "python",
   "pygments_lexer": "ipython3",
   "version": "3.6.5"
  }
 },
 "nbformat": 4,
 "nbformat_minor": 2
}
